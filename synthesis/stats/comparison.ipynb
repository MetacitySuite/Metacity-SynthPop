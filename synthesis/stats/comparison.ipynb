{
 "cells": [
  {
   "cell_type": "code",
   "execution_count": 16,
   "metadata": {},
   "outputs": [],
   "source": [
    "#import pip\n",
    "#pip.main(['install','seaborn']);\n",
    "import pandas as pd\n",
    "import seaborn as sns\n",
    "import matplotlib.pyplot as plt\n",
    "import numpy as np\n",
    "\n",
    "MIDNIGHT = 24*60*60\n",
    "\n",
    "def return_activity_duration(start_time, end_time):\n",
    "    if(start_time == np.nan or end_time == np.nan):\n",
    "        return np.nan\n",
    "    \n",
    "    if(start_time > end_time):\n",
    "        return abs(start_time + (MIDNIGHT - end_time))\n",
    "\n",
    "    return abs(end_time - start_time)\n",
    "#output_path = 'C:\\\\Users\\\\Anna\\\\Metacity\\\\Metacity-SynthPop\\\\output\\\\'\n",
    "output_path = \"/home/metamat/anicka/Metacity-SynthPop/output/\""
   ]
  },
  {
   "cell_type": "markdown",
   "metadata": {},
   "source": [
    "##"
   ]
  },
  {
   "cell_type": "markdown",
   "metadata": {},
   "source": [
    "# Srovnání syntetické populace a vstupních dat"
   ]
  },
  {
   "cell_type": "code",
   "execution_count": null,
   "metadata": {},
   "outputs": [],
   "source": []
  },
  {
   "cell_type": "markdown",
   "metadata": {},
   "source": [
    "## Načtení HTS dat"
   ]
  },
  {
   "cell_type": "code",
   "execution_count": 17,
   "metadata": {},
   "outputs": [
    {
     "data": {
      "text/html": [
       "<div>\n",
       "<style scoped>\n",
       "    .dataframe tbody tr th:only-of-type {\n",
       "        vertical-align: middle;\n",
       "    }\n",
       "\n",
       "    .dataframe tbody tr th {\n",
       "        vertical-align: top;\n",
       "    }\n",
       "\n",
       "    .dataframe thead th {\n",
       "        text-align: right;\n",
       "    }\n",
       "</style>\n",
       "<table border=\"1\" class=\"dataframe\">\n",
       "  <thead>\n",
       "    <tr style=\"text-align: right;\">\n",
       "      <th></th>\n",
       "      <th>traveler_id</th>\n",
       "      <th>household_id</th>\n",
       "      <th>sex</th>\n",
       "      <th>age</th>\n",
       "      <th>employment</th>\n",
       "      <th>trip_today</th>\n",
       "      <th>age_class</th>\n",
       "      <th>district_name</th>\n",
       "    </tr>\n",
       "  </thead>\n",
       "  <tbody>\n",
       "    <tr>\n",
       "      <th>0</th>\n",
       "      <td>1</td>\n",
       "      <td>1306</td>\n",
       "      <td>M</td>\n",
       "      <td>12</td>\n",
       "      <td>student</td>\n",
       "      <td>True</td>\n",
       "      <td>0</td>\n",
       "      <td>Praha-Čakovice</td>\n",
       "    </tr>\n",
       "    <tr>\n",
       "      <th>1</th>\n",
       "      <td>2</td>\n",
       "      <td>1306</td>\n",
       "      <td>F</td>\n",
       "      <td>46</td>\n",
       "      <td>employed</td>\n",
       "      <td>True</td>\n",
       "      <td>3</td>\n",
       "      <td>Praha-Čakovice</td>\n",
       "    </tr>\n",
       "  </tbody>\n",
       "</table>\n",
       "</div>"
      ],
      "text/plain": [
       "   traveler_id  household_id sex  age employment  trip_today  age_class  \\\n",
       "0            1          1306   M   12    student        True          0   \n",
       "1            2          1306   F   46   employed        True          3   \n",
       "\n",
       "    district_name  \n",
       "0  Praha-Čakovice  \n",
       "1  Praha-Čakovice  "
      ]
     },
     "metadata": {},
     "output_type": "display_data"
    }
   ],
   "source": [
    "df_hts = pd.read_csv(output_path+'csv/clean_hts_matched.csv', index_col=[0])\n",
    "display(df_hts.head(2))"
   ]
  },
  {
   "cell_type": "markdown",
   "metadata": {},
   "source": [
    "## Načtení dat SLDB 2011"
   ]
  },
  {
   "cell_type": "code",
   "execution_count": 18,
   "metadata": {},
   "outputs": [
    {
     "data": {
      "text/html": [
       "<div>\n",
       "<style scoped>\n",
       "    .dataframe tbody tr th:only-of-type {\n",
       "        vertical-align: middle;\n",
       "    }\n",
       "\n",
       "    .dataframe tbody tr th {\n",
       "        vertical-align: top;\n",
       "    }\n",
       "\n",
       "    .dataframe thead th {\n",
       "        text-align: right;\n",
       "    }\n",
       "</style>\n",
       "<table border=\"1\" class=\"dataframe\">\n",
       "  <thead>\n",
       "    <tr style=\"text-align: right;\">\n",
       "      <th></th>\n",
       "      <th>person_id</th>\n",
       "      <th>zone_id</th>\n",
       "      <th>sex</th>\n",
       "      <th>age</th>\n",
       "      <th>employment</th>\n",
       "      <th>age_class</th>\n",
       "      <th>district_name</th>\n",
       "    </tr>\n",
       "  </thead>\n",
       "  <tbody>\n",
       "    <tr>\n",
       "      <th>0</th>\n",
       "      <td>1</td>\n",
       "      <td>554782423</td>\n",
       "      <td>F</td>\n",
       "      <td>34</td>\n",
       "      <td>employed</td>\n",
       "      <td>2</td>\n",
       "      <td>Praha-Libuš</td>\n",
       "    </tr>\n",
       "    <tr>\n",
       "      <th>1</th>\n",
       "      <td>19</td>\n",
       "      <td>554782423</td>\n",
       "      <td>F</td>\n",
       "      <td>29</td>\n",
       "      <td>employed</td>\n",
       "      <td>1</td>\n",
       "      <td>Praha-Libuš</td>\n",
       "    </tr>\n",
       "  </tbody>\n",
       "</table>\n",
       "</div>"
      ],
      "text/plain": [
       "   person_id    zone_id sex  age employment  age_class district_name\n",
       "0          1  554782423   F   34   employed          2   Praha-Libuš\n",
       "1         19  554782423   F   29   employed          1   Praha-Libuš"
      ]
     },
     "metadata": {},
     "output_type": "display_data"
    }
   ],
   "source": [
    "df = pd.read_csv(output_path+'csv/clean_census_matched.csv', index_col=[0])\n",
    "display(df.head(2))\n"
   ]
  },
  {
   "cell_type": "markdown",
   "metadata": {},
   "source": [
    "## Porovnání základních údajů"
   ]
  },
  {
   "cell_type": "code",
   "execution_count": 19,
   "metadata": {},
   "outputs": [
    {
     "data": {
      "image/png": "[encoded data removed]",
      "text/plain": [
       "<Figure size 432x288 with 1 Axes>"
      ]
     },
     "metadata": {
      "needs_background": "light"
     },
     "output_type": "display_data"
    },
    {
     "data": {
      "image/png": "[encoded data removed]",
      "text/plain": [
       "<Figure size 432x288 with 1 Axes>"
      ]
     },
     "metadata": {
      "needs_background": "light"
     },
     "output_type": "display_data"
    },
    {
     "data": {
      "image/png": "[encoded data removed]",
      "text/plain": [
       "<Figure size 432x288 with 1 Axes>"
      ]
     },
     "metadata": {
      "needs_background": "light"
     },
     "output_type": "display_data"
    },
    {
     "data": {
      "image/png": "[encoded data removed]",
      "text/plain": [
       "<Figure size 432x288 with 1 Axes>"
      ]
     },
     "metadata": {
      "needs_background": "light"
     },
     "output_type": "display_data"
    },
    {
     "data": {
      "image/png": "[encoded data removed]",
      "text/plain": [
       "<Figure size 432x288 with 1 Axes>"
      ]
     },
     "metadata": {
      "needs_background": "light"
     },
     "output_type": "display_data"
    }
   ],
   "source": [
    "for column in [\"sex\",\"age\",\"employment\",\"age_class\",\"district_name\"]:\n",
    "    sns.histplot(x=column, data=df, stat='percent', bins=min(35, len(df[column].unique())), alpha=0.8, color=\"red\")\n",
    "    sns.histplot(x=column, data=df_hts, stat='percent', bins=min(35, len(df_hts[column].unique())), alpha=0.4, color=\"white\")\n",
    "    plt.savefig(output_path+'png/comparison_'+column+'.png')\n",
    "    plt.show()"
   ]
  },
  {
   "cell_type": "markdown",
   "metadata": {},
   "source": [
    "### Age split and socioeconomic status by age"
   ]
  },
  {
   "cell_type": "code",
   "execution_count": 20,
   "metadata": {},
   "outputs": [
    {
     "data": {
      "image/png": "[encoded data removed]",
      "text/plain": [
       "<Figure size 432x288 with 1 Axes>"
      ]
     },
     "metadata": {
      "needs_background": "light"
     },
     "output_type": "display_data"
    }
   ],
   "source": [
    "df_unemployed = df[df.employment == \"unemployed\"]\n",
    "g = sns.histplot(x=\"age\", data=df_unemployed, color=\"red\")\n",
    "g.set_title(\"Census - unemployed: age split\")\n",
    "plt.show()"
   ]
  },
  {
   "cell_type": "code",
   "execution_count": 21,
   "metadata": {},
   "outputs": [],
   "source": [
    "df_c = pd.DataFrame()\n",
    "df_c[\"age\"] = df.age.values\n",
    "df_c[\"sex\"] = df.sex.values\n",
    "df_c[\"employment\"] = df.employment.values\n",
    "df_c[\"type\"] = \"census\"\n",
    "\n",
    "df_h = pd.DataFrame()\n",
    "df_h[\"age\"] = df_hts.age.values\n",
    "df_h[\"sex\"] = df_hts.sex.values\n",
    "df_h[\"employment\"] = df_hts.employment.values\n",
    "df_h[\"type\"] = \"HTS\"\n",
    "\n",
    "df2 = pd.concat([df_c,df_h])\n"
   ]
  },
  {
   "cell_type": "code",
   "execution_count": 22,
   "metadata": {},
   "outputs": [
    {
     "data": {
      "image/png": "[encoded data removed]",
      "text/plain": [
       "<Figure size 432x288 with 1 Axes>"
      ]
     },
     "metadata": {
      "needs_background": "light"
     },
     "output_type": "display_data"
    },
    {
     "data": {
      "image/png": "[encoded data removed]",
      "text/plain": [
       "<Figure size 432x288 with 1 Axes>"
      ]
     },
     "metadata": {
      "needs_background": "light"
     },
     "output_type": "display_data"
    }
   ],
   "source": [
    "g = sns.violinplot(x=\"type\", y=\"age\", palette=[\"r\",\"w\"], data=df2)\n",
    "g.set_title(\"Age split in census and hts\")\n",
    "plt.savefig(output_path+'png/comparison_age_split.png')\n",
    "plt.show()\n",
    "g = sns.violinplot(x=\"employment\", y=\"age\", hue=\"type\", palette=[\"r\",\"w\"], data=df2)\n",
    "g.set_title(\"Socioeconomic status and age split in census and hts\")\n",
    "plt.savefig(output_path+'png/comparison_age_se_status_split.png')\n",
    "plt.show()"
   ]
  },
  {
   "cell_type": "markdown",
   "metadata": {},
   "source": [
    "## Activity chains in HTS and SynthPop"
   ]
  },
  {
   "cell_type": "markdown",
   "metadata": {},
   "source": [
    "### Načtení dat z HTS"
   ]
  },
  {
   "cell_type": "code",
   "execution_count": 24,
   "metadata": {},
   "outputs": [
    {
     "data": {
      "text/html": [
       "<div>\n",
       "<style scoped>\n",
       "    .dataframe tbody tr th:only-of-type {\n",
       "        vertical-align: middle;\n",
       "    }\n",
       "\n",
       "    .dataframe tbody tr th {\n",
       "        vertical-align: top;\n",
       "    }\n",
       "\n",
       "    .dataframe thead th {\n",
       "        text-align: right;\n",
       "    }\n",
       "</style>\n",
       "<table border=\"1\" class=\"dataframe\">\n",
       "  <thead>\n",
       "    <tr style=\"text-align: right;\">\n",
       "      <th></th>\n",
       "      <th>Unnamed: 0</th>\n",
       "      <th>traveler_id</th>\n",
       "      <th>purpose</th>\n",
       "      <th>start_time</th>\n",
       "      <th>end_time</th>\n",
       "      <th>activity_order</th>\n",
       "      <th>o_order</th>\n",
       "      <th>d_order</th>\n",
       "      <th>duration_m</th>\n",
       "    </tr>\n",
       "  </thead>\n",
       "  <tbody>\n",
       "    <tr>\n",
       "      <th>0</th>\n",
       "      <td>0</td>\n",
       "      <td>1</td>\n",
       "      <td>home</td>\n",
       "      <td>NaN</td>\n",
       "      <td>27000.0</td>\n",
       "      <td>0</td>\n",
       "      <td>0</td>\n",
       "      <td>0</td>\n",
       "      <td>NaN</td>\n",
       "    </tr>\n",
       "    <tr>\n",
       "      <th>1</th>\n",
       "      <td>1</td>\n",
       "      <td>1</td>\n",
       "      <td>education</td>\n",
       "      <td>27900.0</td>\n",
       "      <td>50400.0</td>\n",
       "      <td>1</td>\n",
       "      <td>1</td>\n",
       "      <td>1</td>\n",
       "      <td>375.0</td>\n",
       "    </tr>\n",
       "  </tbody>\n",
       "</table>\n",
       "</div>"
      ],
      "text/plain": [
       "   Unnamed: 0  traveler_id    purpose  start_time  end_time  activity_order  \\\n",
       "0           0            1       home         NaN   27000.0               0   \n",
       "1           1            1  education     27900.0   50400.0               1   \n",
       "\n",
       "   o_order  d_order  duration_m  \n",
       "0        0        0         NaN  \n",
       "1        1        1       375.0  "
      ]
     },
     "metadata": {},
     "output_type": "display_data"
    },
    {
     "data": {
      "text/html": [
       "<div>\n",
       "<style scoped>\n",
       "    .dataframe tbody tr th:only-of-type {\n",
       "        vertical-align: middle;\n",
       "    }\n",
       "\n",
       "    .dataframe tbody tr th {\n",
       "        vertical-align: top;\n",
       "    }\n",
       "\n",
       "    .dataframe thead th {\n",
       "        text-align: right;\n",
       "    }\n",
       "</style>\n",
       "<table border=\"1\" class=\"dataframe\">\n",
       "  <thead>\n",
       "    <tr style=\"text-align: right;\">\n",
       "      <th></th>\n",
       "      <th>Unnamed: 0</th>\n",
       "      <th>traveler_id</th>\n",
       "      <th>traveling_mode</th>\n",
       "      <th>trip_order</th>\n",
       "      <th>o_order</th>\n",
       "      <th>d_order</th>\n",
       "    </tr>\n",
       "  </thead>\n",
       "  <tbody>\n",
       "    <tr>\n",
       "      <th>0</th>\n",
       "      <td>0</td>\n",
       "      <td>1</td>\n",
       "      <td>pt</td>\n",
       "      <td>0</td>\n",
       "      <td>0</td>\n",
       "      <td>1</td>\n",
       "    </tr>\n",
       "    <tr>\n",
       "      <th>1</th>\n",
       "      <td>1</td>\n",
       "      <td>1</td>\n",
       "      <td>pt</td>\n",
       "      <td>1</td>\n",
       "      <td>1</td>\n",
       "      <td>2</td>\n",
       "    </tr>\n",
       "  </tbody>\n",
       "</table>\n",
       "</div>"
      ],
      "text/plain": [
       "   Unnamed: 0  traveler_id traveling_mode  trip_order  o_order  d_order\n",
       "0           0            1             pt           0        0        1\n",
       "1           1            1             pt           1        1        2"
      ]
     },
     "metadata": {},
     "output_type": "display_data"
    },
    {
     "data": {
      "text/html": [
       "<div>\n",
       "<style scoped>\n",
       "    .dataframe tbody tr th:only-of-type {\n",
       "        vertical-align: middle;\n",
       "    }\n",
       "\n",
       "    .dataframe tbody tr th {\n",
       "        vertical-align: top;\n",
       "    }\n",
       "\n",
       "    .dataframe thead th {\n",
       "        text-align: right;\n",
       "    }\n",
       "</style>\n",
       "<table border=\"1\" class=\"dataframe\">\n",
       "  <thead>\n",
       "    <tr style=\"text-align: right;\">\n",
       "      <th></th>\n",
       "      <th>Unnamed: 0_x</th>\n",
       "      <th>traveler_id</th>\n",
       "      <th>purpose</th>\n",
       "      <th>start_time</th>\n",
       "      <th>end_time</th>\n",
       "      <th>activity_order</th>\n",
       "      <th>o_order</th>\n",
       "      <th>d_order_x</th>\n",
       "      <th>duration_m</th>\n",
       "      <th>Unnamed: 0_y</th>\n",
       "      <th>traveling_mode</th>\n",
       "      <th>trip_order</th>\n",
       "      <th>d_order_y</th>\n",
       "    </tr>\n",
       "  </thead>\n",
       "  <tbody>\n",
       "    <tr>\n",
       "      <th>0</th>\n",
       "      <td>0</td>\n",
       "      <td>1</td>\n",
       "      <td>home</td>\n",
       "      <td>NaN</td>\n",
       "      <td>27000.0</td>\n",
       "      <td>0</td>\n",
       "      <td>0</td>\n",
       "      <td>0</td>\n",
       "      <td>NaN</td>\n",
       "      <td>0</td>\n",
       "      <td>pt</td>\n",
       "      <td>0</td>\n",
       "      <td>1</td>\n",
       "    </tr>\n",
       "    <tr>\n",
       "      <th>1</th>\n",
       "      <td>1</td>\n",
       "      <td>1</td>\n",
       "      <td>education</td>\n",
       "      <td>27900.0</td>\n",
       "      <td>50400.0</td>\n",
       "      <td>1</td>\n",
       "      <td>1</td>\n",
       "      <td>1</td>\n",
       "      <td>375.0</td>\n",
       "      <td>1</td>\n",
       "      <td>pt</td>\n",
       "      <td>1</td>\n",
       "      <td>2</td>\n",
       "    </tr>\n",
       "  </tbody>\n",
       "</table>\n",
       "</div>"
      ],
      "text/plain": [
       "   Unnamed: 0_x  traveler_id    purpose  start_time  end_time  activity_order  \\\n",
       "0             0            1       home         NaN   27000.0               0   \n",
       "1             1            1  education     27900.0   50400.0               1   \n",
       "\n",
       "   o_order  d_order_x  duration_m  Unnamed: 0_y traveling_mode  trip_order  \\\n",
       "0        0          0         NaN             0             pt           0   \n",
       "1        1          1       375.0             1             pt           1   \n",
       "\n",
       "   d_order_y  \n",
       "0          1  \n",
       "1          2  "
      ]
     },
     "metadata": {},
     "output_type": "display_data"
    }
   ],
   "source": [
    "hts_trips = pd.read_csv(output_path+'csv/hts_trips_extracted.csv')\n",
    "hts_activities = pd.read_csv(output_path+'csv/hts_activities_extracted.csv')\n",
    "hts_activities[\"o_order\"] = hts_activities.activity_order.values\n",
    "hts_activities[\"d_order\"] = hts_activities.activity_order.values\n",
    "hts_activities[\"duration_m\"] = hts_activities.apply(lambda row: return_activity_duration(row.start_time, row.end_time), axis=1)/60\n",
    "hts_trips[\"o_order\"] = hts_trips.trip_order\n",
    "hts_trips[\"d_order\"] = hts_trips.trip_order + 1\n",
    "\n",
    "\n",
    "hts_joined_origin = hts_activities.merge(hts_trips, on=[\"traveler_id\", \"o_order\"])\n",
    "hts_joined_dest = hts_activities.merge(hts_trips, on=[\"traveler_id\", \"d_order\"])\n",
    "\n",
    "traveler_ids = hts_activities.traveler_id.unique()\n",
    "\n",
    "display(hts_activities.head(2))\n",
    "display(hts_trips.head(2))\n",
    "display(hts_joined_origin.head(2))"
   ]
  },
  {
   "cell_type": "markdown",
   "metadata": {},
   "source": [
    "## Načtení dat SynthPop"
   ]
  },
  {
   "cell_type": "code",
   "execution_count": 26,
   "metadata": {},
   "outputs": [
    {
     "data": {
      "text/html": [
       "<div>\n",
       "<style scoped>\n",
       "    .dataframe tbody tr th:only-of-type {\n",
       "        vertical-align: middle;\n",
       "    }\n",
       "\n",
       "    .dataframe tbody tr th {\n",
       "        vertical-align: top;\n",
       "    }\n",
       "\n",
       "    .dataframe thead th {\n",
       "        text-align: right;\n",
       "    }\n",
       "</style>\n",
       "<table border=\"1\" class=\"dataframe\">\n",
       "  <thead>\n",
       "    <tr style=\"text-align: right;\">\n",
       "      <th></th>\n",
       "      <th>trip_today</th>\n",
       "      <th>car_avail</th>\n",
       "      <th>driving_license</th>\n",
       "    </tr>\n",
       "    <tr>\n",
       "      <th>person_id</th>\n",
       "      <th></th>\n",
       "      <th></th>\n",
       "      <th></th>\n",
       "    </tr>\n",
       "  </thead>\n",
       "  <tbody>\n",
       "    <tr>\n",
       "      <th>1</th>\n",
       "      <td>True</td>\n",
       "      <td>False</td>\n",
       "      <td>False</td>\n",
       "    </tr>\n",
       "    <tr>\n",
       "      <th>231704</th>\n",
       "      <td>True</td>\n",
       "      <td>False</td>\n",
       "      <td>False</td>\n",
       "    </tr>\n",
       "  </tbody>\n",
       "</table>\n",
       "</div>"
      ],
      "text/plain": [
       "           trip_today  car_avail  driving_license\n",
       "person_id                                        \n",
       "1                True      False            False\n",
       "231704           True      False            False"
      ]
     },
     "metadata": {},
     "output_type": "display_data"
    },
    {
     "data": {
      "text/html": [
       "<div>\n",
       "<style scoped>\n",
       "    .dataframe tbody tr th:only-of-type {\n",
       "        vertical-align: middle;\n",
       "    }\n",
       "\n",
       "    .dataframe tbody tr th {\n",
       "        vertical-align: top;\n",
       "    }\n",
       "\n",
       "    .dataframe thead th {\n",
       "        text-align: right;\n",
       "    }\n",
       "</style>\n",
       "<table border=\"1\" class=\"dataframe\">\n",
       "  <thead>\n",
       "    <tr style=\"text-align: right;\">\n",
       "      <th></th>\n",
       "      <th>person_id</th>\n",
       "      <th>purpose</th>\n",
       "      <th>start_time</th>\n",
       "      <th>end_time</th>\n",
       "      <th>activity_order</th>\n",
       "      <th>geometry</th>\n",
       "      <th>location_id</th>\n",
       "      <th>duration_m</th>\n",
       "      <th>departure_order</th>\n",
       "      <th>o_order</th>\n",
       "      <th>d_order</th>\n",
       "      <th>trip_today</th>\n",
       "      <th>car_avail</th>\n",
       "      <th>driving_license</th>\n",
       "    </tr>\n",
       "  </thead>\n",
       "  <tbody>\n",
       "    <tr>\n",
       "      <th>0</th>\n",
       "      <td>1</td>\n",
       "      <td>home</td>\n",
       "      <td>NaN</td>\n",
       "      <td>32138.0</td>\n",
       "      <td>0</td>\n",
       "      <td>POINT (741081.2944470095 1053674.974826472)</td>\n",
       "      <td>14165</td>\n",
       "      <td>NaN</td>\n",
       "      <td>-1</td>\n",
       "      <td>0</td>\n",
       "      <td>0</td>\n",
       "      <td>True</td>\n",
       "      <td>False</td>\n",
       "      <td>False</td>\n",
       "    </tr>\n",
       "    <tr>\n",
       "      <th>1</th>\n",
       "      <td>1</td>\n",
       "      <td>work</td>\n",
       "      <td>34624.0</td>\n",
       "      <td>54725.0</td>\n",
       "      <td>1</td>\n",
       "      <td>POINT (737592.1799999997 1041624.149999999)</td>\n",
       "      <td>NaN</td>\n",
       "      <td>335.016667</td>\n",
       "      <td>0</td>\n",
       "      <td>1</td>\n",
       "      <td>1</td>\n",
       "      <td>True</td>\n",
       "      <td>False</td>\n",
       "      <td>False</td>\n",
       "    </tr>\n",
       "  </tbody>\n",
       "</table>\n",
       "</div>"
      ],
      "text/plain": [
       "   person_id purpose  start_time  end_time  activity_order  \\\n",
       "0          1    home         NaN   32138.0               0   \n",
       "1          1    work     34624.0   54725.0               1   \n",
       "\n",
       "                                      geometry location_id  duration_m  \\\n",
       "0  POINT (741081.2944470095 1053674.974826472)       14165         NaN   \n",
       "1  POINT (737592.1799999997 1041624.149999999)         NaN  335.016667   \n",
       "\n",
       "   departure_order  o_order  d_order  trip_today  car_avail  driving_license  \n",
       "0               -1        0        0        True      False            False  \n",
       "1                0        1        1        True      False            False  "
      ]
     },
     "metadata": {},
     "output_type": "display_data"
    },
    {
     "data": {
      "text/html": [
       "<div>\n",
       "<style scoped>\n",
       "    .dataframe tbody tr th:only-of-type {\n",
       "        vertical-align: middle;\n",
       "    }\n",
       "\n",
       "    .dataframe tbody tr th {\n",
       "        vertical-align: top;\n",
       "    }\n",
       "\n",
       "    .dataframe thead th {\n",
       "        text-align: right;\n",
       "    }\n",
       "</style>\n",
       "<table border=\"1\" class=\"dataframe\">\n",
       "  <thead>\n",
       "    <tr style=\"text-align: right;\">\n",
       "      <th></th>\n",
       "      <th>person_id</th>\n",
       "      <th>mode</th>\n",
       "      <th>trip_order</th>\n",
       "      <th>start</th>\n",
       "      <th>preceeding_purpose</th>\n",
       "      <th>preceeding_purpose_coords</th>\n",
       "      <th>end</th>\n",
       "      <th>following_purpose</th>\n",
       "      <th>following_purpose_coords</th>\n",
       "      <th>travel_time</th>\n",
       "      <th>beeline</th>\n",
       "      <th>trip_id</th>\n",
       "      <th>o_order</th>\n",
       "      <th>d_order</th>\n",
       "    </tr>\n",
       "  </thead>\n",
       "  <tbody>\n",
       "    <tr>\n",
       "      <th>0</th>\n",
       "      <td>1</td>\n",
       "      <td>pt</td>\n",
       "      <td>0</td>\n",
       "      <td>32138.0</td>\n",
       "      <td>home</td>\n",
       "      <td>POINT (741081.2944470095 1053674.974826472)</td>\n",
       "      <td>34624.0</td>\n",
       "      <td>work</td>\n",
       "      <td>POINT (737592.1799999997 1041624.149999999)</td>\n",
       "      <td>2486.0</td>\n",
       "      <td>12545.768156</td>\n",
       "      <td>0</td>\n",
       "      <td>0</td>\n",
       "      <td>1</td>\n",
       "    </tr>\n",
       "    <tr>\n",
       "      <th>1</th>\n",
       "      <td>1</td>\n",
       "      <td>pt</td>\n",
       "      <td>1</td>\n",
       "      <td>54725.0</td>\n",
       "      <td>work</td>\n",
       "      <td>POINT (737592.1799999997 1041624.149999999)</td>\n",
       "      <td>57210.0</td>\n",
       "      <td>home</td>\n",
       "      <td>POINT (741081.2944470095 1053674.974826472)</td>\n",
       "      <td>2485.0</td>\n",
       "      <td>12545.768156</td>\n",
       "      <td>1</td>\n",
       "      <td>1</td>\n",
       "      <td>2</td>\n",
       "    </tr>\n",
       "  </tbody>\n",
       "</table>\n",
       "</div>"
      ],
      "text/plain": [
       "   person_id mode  trip_order    start preceeding_purpose  \\\n",
       "0          1   pt           0  32138.0               home   \n",
       "1          1   pt           1  54725.0               work   \n",
       "\n",
       "                     preceeding_purpose_coords      end following_purpose  \\\n",
       "0  POINT (741081.2944470095 1053674.974826472)  34624.0              work   \n",
       "1  POINT (737592.1799999997 1041624.149999999)  57210.0              home   \n",
       "\n",
       "                      following_purpose_coords  travel_time       beeline  \\\n",
       "0  POINT (737592.1799999997 1041624.149999999)       2486.0  12545.768156   \n",
       "1  POINT (741081.2944470095 1053674.974826472)       2485.0  12545.768156   \n",
       "\n",
       "   trip_id  o_order  d_order  \n",
       "0        0        0        1  \n",
       "1        1        1        2  "
      ]
     },
     "metadata": {},
     "output_type": "display_data"
    }
   ],
   "source": [
    "df_persons = pd.read_csv(output_path+'csv/df_persons.csv', index_col=[0])\n",
    "df_persons.set_index(\"person_id\", drop=True, inplace=True)\n",
    "df_activities = pd.read_csv(output_path+'csv/df_activities.csv', index_col=[0])\n",
    "df_trips = pd.read_csv(output_path+'csv/df_trips.csv', index_col=[0])\n",
    "\n",
    "df_activities[\"o_order\"] = df_activities.activity_order.values\n",
    "df_activities[\"d_order\"] = df_activities.activity_order.values\n",
    "df_trips[\"o_order\"] = df_trips.trip_order\n",
    "df_trips[\"d_order\"] = df_trips.trip_order + 1\n",
    "df_joined_origin = df_activities.merge(df_trips, on=[\"person_id\", \"o_order\"])\n",
    "df_joined_dest = df_activities.merge(df_trips, on=[\"person_id\", \"d_order\"])\n",
    "\n",
    "df_activities = df_activities.merge(df_persons, on=\"person_id\")\n",
    "#df_merged = df_persons.merge(df_activities, on=\"person_id\")\n",
    "\n",
    "\n",
    "traveler_ids = df_activities.person_id.unique()\n",
    "df_travelers = df_activities.groupby(\"person_id\")\n",
    "\n",
    "display(df_persons.head(2))\n",
    "display(df_activities.head(2))\n",
    "display(df_trips.head(2))"
   ]
  },
  {
   "cell_type": "code",
   "execution_count": null,
   "metadata": {},
   "outputs": [],
   "source": [
    "### Comparison: Activity duration"
   ]
  },
  {
   "cell_type": "code",
   "execution_count": 43,
   "metadata": {},
   "outputs": [],
   "source": [
    "def side_by_side(plots):\n",
    "    \n",
    "    #plt.figure(figsize = (40,8))\n",
    "    figure, axes = plt.subplots(1, len(plots))\n",
    "\n",
    "    for e,df in enumerate(plots):\n",
    "        sns.histplot(df, ax=axes[e])\n",
    "\n",
    "    plt.show()\n",
    "\n",
    "\n"
   ]
  },
  {
   "cell_type": "code",
   "execution_count": 44,
   "metadata": {},
   "outputs": [
    {
     "name": "stdout",
     "output_type": "stream",
     "text": [
      "home\n"
     ]
    },
    {
     "data": {
      "image/png": "[encoded data removed]",
      "text/plain": [
       "<Figure size 432x288 with 2 Axes>"
      ]
     },
     "metadata": {
      "needs_background": "light"
     },
     "output_type": "display_data"
    },
    {
     "name": "stdout",
     "output_type": "stream",
     "text": [
      "work\n"
     ]
    },
    {
     "data": {
      "image/png": "[encoded data removed]",
      "text/plain": [
       "<Figure size 432x288 with 2 Axes>"
      ]
     },
     "metadata": {
      "needs_background": "light"
     },
     "output_type": "display_data"
    },
    {
     "name": "stdout",
     "output_type": "stream",
     "text": [
      "leisure\n"
     ]
    },
    {
     "data": {
      "image/png": "[encoded data removed]",
      "text/plain": [
       "<Figure size 432x288 with 2 Axes>"
      ]
     },
     "metadata": {
      "needs_background": "light"
     },
     "output_type": "display_data"
    },
    {
     "name": "stdout",
     "output_type": "stream",
     "text": [
      "other\n"
     ]
    },
    {
     "data": {
      "image/png": "[encoded data removed]",
      "text/plain": [
       "<Figure size 432x288 with 2 Axes>"
      ]
     },
     "metadata": {
      "needs_background": "light"
     },
     "output_type": "display_data"
    },
    {
     "name": "stdout",
     "output_type": "stream",
     "text": [
      "shop\n"
     ]
    },
    {
     "data": {
      "image/png": "[encoded data removed]",
      "text/plain": [
       "<Figure size 432x288 with 2 Axes>"
      ]
     },
     "metadata": {
      "needs_background": "light"
     },
     "output_type": "display_data"
    },
    {
     "name": "stdout",
     "output_type": "stream",
     "text": [
      "education\n"
     ]
    },
    {
     "data": {
      "image/png": "[encoded data removed]",
      "text/plain": [
       "<Figure size 432x288 with 2 Axes>"
      ]
     },
     "metadata": {
      "needs_background": "light"
     },
     "output_type": "display_data"
    }
   ],
   "source": [
    "purposes = df_activities.purpose.unique()\n",
    "for mode in purposes:\n",
    "    print(mode)\n",
    "    hts = hts_activities[hts_activities.purpose == mode]\n",
    "    df = df_activities[df_activities.purpose == mode]\n",
    "    \n",
    "    side_by_side([hts.duration_m, df.duration_m])"
   ]
  },
  {
   "cell_type": "code",
   "execution_count": null,
   "metadata": {},
   "outputs": [],
   "source": []
  }
 ],
 "metadata": {
  "interpreter": {
   "hash": "114e2e0a167aea83c98844e551af7b976eafde146a3a3e7eae57427f73e51c7f"
  },
  "kernelspec": {
   "display_name": "Python 3.9.5 ('venv': venv)",
   "language": "python",
   "name": "python3"
  },
  "language_info": {
   "codemirror_mode": {
    "name": "ipython",
    "version": 3
   },
   "file_extension": ".py",
   "mimetype": "text/x-python",
   "name": "python",
   "nbconvert_exporter": "python",
   "pygments_lexer": "ipython3",
   "version": "3.9.5"
  },
  "orig_nbformat": 4
 },
 "nbformat": 4,
 "nbformat_minor": 2
}
